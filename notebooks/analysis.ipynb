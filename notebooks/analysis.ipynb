{
 "cells": [
  {
   "cell_type": "code",
   "execution_count": null,
   "metadata": {},
   "outputs": [],
   "source": [
    "import pandas as pd\n",
    "import matplotlib.pyplot as plt\n",
    "\n",
    "# Load the data\n",
    "df = pd.read_csv('../data/election_results.csv')\n",
    "\n",
    "# Clean and prepare data\n",
    "df.dropna(inplace=True)\n",
    "df['Votes'] = df['Votes'].str.replace(',', '').astype(int)\n",
    "df['Percentage'] = df['Percentage'].str.replace('%', '').astype(float)\n",
    "\n",
    "# Perform EDA\n",
    "# [Include EDA code here as needed]\n",
    "\n",
    "# Example: Total seats won by each party\n",
    "total_seats_won = df.groupby('Party')['Seats'].sum().reset_index()\n",
    "total_seats_won.plot(kind='bar', x='Party', y='Seats', legend=False)\n",
    "plt.title('Total Seats Won by Each Party')\n",
    "plt.ylabel('Seats Won')\n",
    "plt.xlabel('Party')\n",
    "plt.show()\n",
    "\n",
    "# Example: Vote share percentage\n",
    "vote_shares = df.groupby('Party')['Votes'].sum().reset_index()\n",
    "vote_shares['Percentage'] = (vote_shares['Votes'] / vote_shares['Votes'].sum()) * 100\n",
    "vote_shares.plot(kind='pie', y='Percentage', labels=vote_shares['Party'], autopct='%1.1f%%')\n",
    "plt.title('Vote Share Percentage by Party')\n",
    "plt.ylabel('')\n",
    "plt.show()\n"
   ]
  }
 ],
 "metadata": {
  "language_info": {
   "name": "python"
  }
 },
 "nbformat": 4,
 "nbformat_minor": 2
}
